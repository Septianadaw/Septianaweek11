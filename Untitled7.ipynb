{
  "nbformat": 4,
  "nbformat_minor": 0,
  "metadata": {
    "colab": {
      "provenance": [],
      "authorship_tag": "ABX9TyPK5jU5VXcxWDFNHHozMAyZ",
      "include_colab_link": true
    },
    "kernelspec": {
      "name": "python3",
      "display_name": "Python 3"
    },
    "language_info": {
      "name": "python"
    }
  },
  "cells": [
    {
      "cell_type": "markdown",
      "metadata": {
        "id": "view-in-github",
        "colab_type": "text"
      },
      "source": [
        "<a href=\"https://colab.research.google.com/github/Septianadaw/Septianaweek11/blob/main/Untitled7.ipynb\" target=\"_parent\"><img src=\"https://colab.research.google.com/assets/colab-badge.svg\" alt=\"Open In Colab\"/></a>"
      ]
    },
    {
      "cell_type": "code",
      "execution_count": null,
      "metadata": {
        "id": "Ox8dN2g88Fao"
      },
      "outputs": [],
      "source": [
        "import sys\n",
        "sys.path.append('/content')"
      ]
    },
    {
      "cell_type": "code",
      "source": [
        "#Import the module named mymodule, and call the greeting function:\n",
        "\n",
        "import septiana\n",
        "\n",
        "septiana.greeting(\"septiana\")"
      ],
      "metadata": {
        "colab": {
          "base_uri": "https://localhost:8080/"
        },
        "id": "MC8l8OwT7Cph",
        "outputId": "a10ee900-1418-4507-8b25-a8837284483d"
      },
      "execution_count": 73,
      "outputs": [
        {
          "output_type": "stream",
          "name": "stdout",
          "text": [
            "Hello, septiana\n"
          ]
        }
      ]
    },
    {
      "cell_type": "code",
      "source": [
        "#Import the module named mymodule, and access the person1 dictionary:\n",
        "\n",
        "import septiana1\n",
        "\n",
        "a = septiana1.person1[\"Age\"]\n",
        "print(a)"
      ],
      "metadata": {
        "colab": {
          "base_uri": "https://localhost:8080/"
        },
        "id": "c4EugTJy-cx3",
        "outputId": "49792936-76d5-46e9-ccbc-e25ddd836ca9"
      },
      "execution_count": 77,
      "outputs": [
        {
          "output_type": "stream",
          "name": "stdout",
          "text": [
            "19\n"
          ]
        }
      ]
    },
    {
      "cell_type": "code",
      "source": [
        "from septiana2 import person1\n",
        "\n",
        "print (person1[\"Name\"])\n",
        "print (person1[\"Age\"])\n",
        "print (person1[\"Country\"])"
      ],
      "metadata": {
        "colab": {
          "base_uri": "https://localhost:8080/"
        },
        "id": "28c9Ocvw_pNF",
        "outputId": "f7125275-68f2-4e1d-83c1-efa51abdc606"
      },
      "execution_count": 80,
      "outputs": [
        {
          "output_type": "stream",
          "name": "stdout",
          "text": [
            "Septiana\n",
            "19\n",
            "Indonesia\n"
          ]
        }
      ]
    },
    {
      "cell_type": "code",
      "source": [
        "#Import and use the platform module:\n",
        "\n",
        "import platform\n",
        "\n",
        "x = platform.system()\n",
        "print(x)"
      ],
      "metadata": {
        "colab": {
          "base_uri": "https://localhost:8080/"
        },
        "id": "LFHDSqKs9BLP",
        "outputId": "e1db8109-0234-4d6d-9ffe-ce44a3adad7b"
      },
      "execution_count": null,
      "outputs": [
        {
          "output_type": "stream",
          "name": "stdout",
          "text": [
            "Linux\n"
          ]
        }
      ]
    },
    {
      "cell_type": "code",
      "source": [
        "#List all the defined names belonging to the platform module:\n",
        "\n",
        "import platform\n",
        "\n",
        "x = dir(platform)\n",
        "print(x)"
      ],
      "metadata": {
        "colab": {
          "base_uri": "https://localhost:8080/"
        },
        "id": "J7KlLl8g9Itn",
        "outputId": "54d905a3-fedd-4859-8b91-532cfec196a2"
      },
      "execution_count": null,
      "outputs": [
        {
          "output_type": "stream",
          "name": "stdout",
          "text": [
            "['_Processor', '_WIN32_CLIENT_RELEASES', '_WIN32_SERVER_RELEASES', '__builtins__', '__cached__', '__copyright__', '__doc__', '__file__', '__loader__', '__name__', '__package__', '__spec__', '__version__', '_comparable_version', '_component_re', '_default_architecture', '_follow_symlinks', '_get_machine_win32', '_ironpython26_sys_version_parser', '_ironpython_sys_version_parser', '_java_getprop', '_libc_search', '_mac_ver_xml', '_node', '_norm_version', '_os_release_cache', '_os_release_candidates', '_os_release_line', '_os_release_unescape', '_parse_os_release', '_platform', '_platform_cache', '_pypy_sys_version_parser', '_sys_version', '_sys_version_cache', '_sys_version_parser', '_syscmd_file', '_syscmd_ver', '_uname_cache', '_unknown_as_blank', '_ver_output', '_ver_stages', 'architecture', 'collections', 'freedesktop_os_release', 'functools', 'itertools', 'java_ver', 'libc_ver', 'mac_ver', 'machine', 'node', 'os', 'platform', 'processor', 'python_branch', 'python_build', 'python_compiler', 'python_implementation', 'python_revision', 'python_version', 'python_version_tuple', 're', 'release', 'subprocess', 'sys', 'system', 'system_alias', 'uname', 'uname_result', 'version', 'win32_edition', 'win32_is_iot', 'win32_ver']\n"
          ]
        }
      ]
    },
    {
      "cell_type": "markdown",
      "source": [
        "WEEKLY EXERCISE 1"
      ],
      "metadata": {
        "id": "yuIhGbKNMaup"
      }
    },
    {
      "cell_type": "code",
      "source": [
        "import matematika1\n",
        "\n",
        "jari_jari = 12\n",
        "luas_lingkaran = matematika1.luas_lingkaran(jari_jari)\n",
        "print(f'Luas Lingkaran dengan Jari-jari {jari_jari} : {hasil_lingkaran:.2f}')\n",
        "\n",
        "sisi = 8\n",
        "luas_persegi = matematika1.luas_persegi(sisi)\n",
        "print(f'Luas Persegi dengan Sisi {sisi} : {hasil_persegi}')"
      ],
      "metadata": {
        "colab": {
          "base_uri": "https://localhost:8080/"
        },
        "id": "AfxEvJI0n5jE",
        "outputId": "900116c6-4c50-44cd-d4f0-ddbbbee71c34"
      },
      "execution_count": null,
      "outputs": [
        {
          "output_type": "stream",
          "name": "stdout",
          "text": [
            "Luas Lingkaran dengan Jari-jari 12 : 201.06\n",
            "Luas Persegi dengan Sisi 8 : 16\n"
          ]
        }
      ]
    },
    {
      "cell_type": "code",
      "source": [
        "import math\n",
        "\n",
        "#Menghitung Faktorial\n",
        "Factorial = 3\n",
        "Hasil = math.factorial(Factorial)\n",
        "print(f'Hasil faktorial {Factorial} : {Hasil}')\n",
        "\n",
        "#Menghitung Pangkat\n",
        "x = 2\n",
        "y = 10\n",
        "Hasil = math.pow(x, y)\n",
        "print(f'{x} pangkat {y} : {Hasil}')\n",
        "\n",
        "#Menghitung Akar Kuadrat\n",
        "n = 49\n",
        "Hasil = math.sqrt(n)\n",
        "print(f'Akar kuadrat dari {n} : {Hasil}')\n",
        "\n",
        "#Menghitung Pembulatan Kebawah\n",
        "i = 9.3\n",
        "Hasil = math.floor(i)\n",
        "print(f'{i} Dibulatkan kebawah : {Hasil}')\n",
        "\n",
        "#Menghitung Pembulatan Keatas\n",
        "j = 11.9\n",
        "Hasil = math.ceil(j)\n",
        "print(f'{j} Dibulatkan keatas : {Hasil}')\n"
      ],
      "metadata": {
        "colab": {
          "base_uri": "https://localhost:8080/"
        },
        "id": "IyAZtQSVCgKA",
        "outputId": "2d9a57d5-ea8a-484b-e8b4-f133c5a5134d"
      },
      "execution_count": null,
      "outputs": [
        {
          "output_type": "stream",
          "name": "stdout",
          "text": [
            "Hasil faktorial 3 : 6\n",
            "2 pangkat 10 : 1024.0\n",
            "Akar kuadrat dari 49 : 7.0\n",
            "9.3 Dibulatkan kebawah : 9\n",
            "11.9 Dibulatkan keatas : 12\n"
          ]
        }
      ]
    }
  ]
}